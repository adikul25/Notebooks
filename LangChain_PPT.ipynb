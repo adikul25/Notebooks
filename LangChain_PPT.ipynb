{
  "nbformat": 4,
  "nbformat_minor": 0,
  "metadata": {
    "colab": {
      "provenance": [],
      "mount_file_id": "1LqwoGGo-vPYmidMPH7cl8kW1qd66zyC5",
      "authorship_tag": "ABX9TyMFKugO4Ifbq8zQ8IoXgTOS",
      "include_colab_link": true
    },
    "kernelspec": {
      "name": "python3",
      "display_name": "Python 3"
    },
    "language_info": {
      "name": "python"
    }
  },
  "cells": [
    {
      "cell_type": "markdown",
      "metadata": {
        "id": "view-in-github",
        "colab_type": "text"
      },
      "source": [
        "<a href=\"https://colab.research.google.com/github/adikul25/Notebooks/blob/main/LangChain_PPT.ipynb\" target=\"_parent\"><img src=\"https://colab.research.google.com/assets/colab-badge.svg\" alt=\"Open In Colab\"/></a>"
      ]
    },
    {
      "cell_type": "markdown",
      "source": [
        "# **Data Processing with LangChain — Extracting Data from PowerPoint Presentations**\n",
        "\n"
      ],
      "metadata": {
        "id": "dwkfNDVQb1Oq"
      }
    },
    {
      "cell_type": "code",
      "source": [
        "pip install unstructured langchain python-pptx -q"
      ],
      "metadata": {
        "colab": {
          "base_uri": "https://localhost:8080/"
        },
        "id": "UR_z8aN1Olxj",
        "outputId": "8dc8dd16-5ddd-441a-a92d-1267677f3bd5"
      },
      "execution_count": null,
      "outputs": [
        {
          "output_type": "stream",
          "name": "stdout",
          "text": [
            "\u001b[2K     \u001b[90m━━━━━━━━━━━━━━━━━━━━━━━━━━━━━━━━━━━━━━━━\u001b[0m \u001b[32m1.8/1.8 MB\u001b[0m \u001b[31m9.4 MB/s\u001b[0m eta \u001b[36m0:00:00\u001b[0m\n",
            "\u001b[2K     \u001b[90m━━━━━━━━━━━━━━━━━━━━━━━━━━━━━━━━━━━━━━━━\u001b[0m \u001b[32m811.8/811.8 kB\u001b[0m \u001b[31m16.0 MB/s\u001b[0m eta \u001b[36m0:00:00\u001b[0m\n",
            "\u001b[2K     \u001b[90m━━━━━━━━━━━━━━━━━━━━━━━━━━━━━━━━━━━━━━━━\u001b[0m \u001b[32m471.6/471.6 kB\u001b[0m \u001b[31m14.7 MB/s\u001b[0m eta \u001b[36m0:00:00\u001b[0m\n",
            "\u001b[2K     \u001b[90m━━━━━━━━━━━━━━━━━━━━━━━━━━━━━━━━━━━━━━━━\u001b[0m \u001b[32m421.5/421.5 kB\u001b[0m \u001b[31m19.5 MB/s\u001b[0m eta \u001b[36m0:00:00\u001b[0m\n",
            "\u001b[2K     \u001b[90m━━━━━━━━━━━━━━━━━━━━━━━━━━━━━━━━━━━━━━━━\u001b[0m \u001b[32m274.7/274.7 kB\u001b[0m \u001b[31m17.3 MB/s\u001b[0m eta \u001b[36m0:00:00\u001b[0m\n",
            "\u001b[2K     \u001b[90m━━━━━━━━━━━━━━━━━━━━━━━━━━━━━━━━━━━━━━━━\u001b[0m \u001b[32m981.5/981.5 kB\u001b[0m \u001b[31m20.3 MB/s\u001b[0m eta \u001b[36m0:00:00\u001b[0m\n",
            "\u001b[?25h  Preparing metadata (setup.py) ... \u001b[?25l\u001b[?25hdone\n",
            "\u001b[2K     \u001b[90m━━━━━━━━━━━━━━━━━━━━━━━━━━━━━━━━━━━━━━━━\u001b[0m \u001b[32m3.4/3.4 MB\u001b[0m \u001b[31m27.1 MB/s\u001b[0m eta \u001b[36m0:00:00\u001b[0m\n",
            "\u001b[2K     \u001b[90m━━━━━━━━━━━━━━━━━━━━━━━━━━━━━━━━━━━━━━━━\u001b[0m \u001b[32m1.6/1.6 MB\u001b[0m \u001b[31m35.1 MB/s\u001b[0m eta \u001b[36m0:00:00\u001b[0m\n",
            "\u001b[2K     \u001b[90m━━━━━━━━━━━━━━━━━━━━━━━━━━━━━━━━━━━━━━━━\u001b[0m \u001b[32m239.4/239.4 kB\u001b[0m \u001b[31m23.9 MB/s\u001b[0m eta \u001b[36m0:00:00\u001b[0m\n",
            "\u001b[2K     \u001b[90m━━━━━━━━━━━━━━━━━━━━━━━━━━━━━━━━━━━━━━━━\u001b[0m \u001b[32m55.7/55.7 kB\u001b[0m \u001b[31m6.5 MB/s\u001b[0m eta \u001b[36m0:00:00\u001b[0m\n",
            "\u001b[2K     \u001b[90m━━━━━━━━━━━━━━━━━━━━━━━━━━━━━━━━━━━━━━━━\u001b[0m \u001b[32m154.8/154.8 kB\u001b[0m \u001b[31m17.3 MB/s\u001b[0m eta \u001b[36m0:00:00\u001b[0m\n",
            "\u001b[2K     \u001b[90m━━━━━━━━━━━━━━━━━━━━━━━━━━━━━━━━━━━━━━━━\u001b[0m \u001b[32m49.4/49.4 kB\u001b[0m \u001b[31m5.5 MB/s\u001b[0m eta \u001b[36m0:00:00\u001b[0m\n",
            "\u001b[2K     \u001b[90m━━━━━━━━━━━━━━━━━━━━━━━━━━━━━━━━━━━━━━━━\u001b[0m \u001b[32m55.4/55.4 kB\u001b[0m \u001b[31m6.3 MB/s\u001b[0m eta \u001b[36m0:00:00\u001b[0m\n",
            "\u001b[?25h  Building wheel for langdetect (setup.py) ... \u001b[?25l\u001b[?25hdone\n"
          ]
        }
      ]
    },
    {
      "cell_type": "markdown",
      "source": [
        "# Importing the required libraries"
      ],
      "metadata": {
        "id": "iUvspcDGd5-k"
      }
    },
    {
      "cell_type": "code",
      "execution_count": null,
      "metadata": {
        "id": "Sx4WtHL_N-Se"
      },
      "outputs": [],
      "source": [
        "from langchain_community.document_loaders import UnstructuredPowerPointLoader\n",
        "import re"
      ]
    },
    {
      "cell_type": "markdown",
      "source": [
        "  \n",
        "\n",
        "---\n",
        "\n",
        "\n",
        "  We create an instance of the UnstructuredPowerPointLoader and load data from a PowerPoint presentation using the load() method.\n",
        "\n",
        "---\n",
        "\n"
      ],
      "metadata": {
        "id": "G0lsbDZHem_u"
      }
    },
    {
      "cell_type": "code",
      "source": [
        "loader = UnstructuredPowerPointLoader(\"/content/drive/MyDrive/Data/airbnb-Pitch-Deck.pptx\")\n",
        "\n",
        "data = loader.load()"
      ],
      "metadata": {
        "id": "WAc22OCrOf5s",
        "colab": {
          "base_uri": "https://localhost:8080/"
        },
        "outputId": "4dcac073-89b3-4aca-d45c-919e2219677d"
      },
      "execution_count": null,
      "outputs": [
        {
          "output_type": "stream",
          "name": "stderr",
          "text": [
            "[nltk_data] Downloading package punkt to /root/nltk_data...\n",
            "[nltk_data]   Unzipping tokenizers/punkt.zip.\n",
            "[nltk_data] Downloading package averaged_perceptron_tagger to\n",
            "[nltk_data]     /root/nltk_data...\n",
            "[nltk_data]   Unzipping taggers/averaged_perceptron_tagger.zip.\n"
          ]
        }
      ]
    },
    {
      "cell_type": "code",
      "source": [
        "data"
      ],
      "metadata": {
        "id": "ogOEfgm_O4pN"
      },
      "execution_count": null,
      "outputs": []
    },
    {
      "cell_type": "markdown",
      "source": [
        " ---\n",
        "\n",
        " Function to encapsulate functionalities to extract and categorize information from slides. This class utilizes the UnstructuredPowerPointLoader from the langchain library to operate on PowerPoint files\n",
        "\n",
        "\n",
        "---\n",
        "\n",
        "\n",
        "\n"
      ],
      "metadata": {
        "id": "JRvyXp_MfiGD"
      }
    },
    {
      "cell_type": "code",
      "source": [
        "class PPTExtraction:\n",
        "    def __init__(self, file_path):\n",
        "        self.file_path = file_path\n",
        "        self.loader = UnstructuredPowerPointLoader(self.file_path, mode=\"elements\")\n",
        "        self.data = self.loader.load()\n",
        "\n",
        "    def extract(self):\n",
        "        slides = []\n",
        "        current_slide_number = None\n",
        "\n",
        "        for document in self.data:\n",
        "            if document.metadata[\"category\"] == \"Title\":\n",
        "                slide_number = document.metadata[\"page_number\"]\n",
        "                if slide_number != current_slide_number:\n",
        "                    if slide_number == 1:\n",
        "                        slide = f\"Slide {slide_number}:\\n\\nTitle: {document.page_content}\"\n",
        "                    else:\n",
        "                        slide = f\"Slide {slide_number}:\\n\\nOutline: {document.page_content}\"\n",
        "                    current_slide_number = slide_number\n",
        "                else:\n",
        "                    slide = f\"Outline: {document.page_content}\"\n",
        "            elif document.metadata[\"category\"] == \"NarrativeText\":\n",
        "                slide = f\"Content: {document.page_content}\"\n",
        "            elif document.metadata[\"category\"] == \"ListItem\":\n",
        "                slide = f\"Content: {document.page_content}\"\n",
        "            elif document.metadata[\"category\"] == \"PageBreak\":\n",
        "                slide = \"\"\n",
        "                current_slide_number = None\n",
        "            else:\n",
        "                continue\n",
        "\n",
        "            slides.append(slide)\n",
        "\n",
        "        formatted_slides = \"\\n\\n\".join(slides)\n",
        "        return formatted_slides\n",
        "\n",
        "    def extract_and_categorize_links(self):\n",
        "\n",
        "      extracted_text = self.extract()\n",
        "\n",
        "\n",
        "      pattern = r'https?://\\S+'\n",
        "      links = re.findall(pattern, extracted_text, re.IGNORECASE)\n",
        "\n",
        "      categories = {\n",
        "          'social_media': ['instagram', 'linkedin'],\n",
        "          'google': ['docs.google.com', 'drive.google.com'],\n",
        "          'onedrive': ['1drv.ms'],\n",
        "          'miscellaneous': []\n",
        "      }\n",
        "      categorized_links = {}\n",
        "\n",
        "      for link in links:\n",
        "          match = re.search(r'://([^/]+)', link)\n",
        "          if match:\n",
        "              domain = match.group(1)\n",
        "              found_category = False\n",
        "              for category, domains in categories.items():\n",
        "                  if any(domain.lower().find(d.lower()) != -1 for d in domains):\n",
        "                      categorized_links.setdefault(category, []).append(link)\n",
        "                      found_category = True\n",
        "                      break\n",
        "              if not found_category:\n",
        "                  categorized_links.setdefault('miscellaneous', []).append(link)\n",
        "          else:\n",
        "              categorized_links.setdefault('miscellaneous', []).append(link)\n",
        "\n",
        "      return categorized_links\n"
      ],
      "metadata": {
        "id": "b0wuSFpkRcqa"
      },
      "execution_count": null,
      "outputs": []
    },
    {
      "cell_type": "markdown",
      "source": [
        "\n",
        "\n",
        "---\n",
        "\n",
        "\n",
        "Example Usage\n",
        "\n",
        "---\n",
        "\n"
      ],
      "metadata": {
        "id": "3RxSpdXpg0fV"
      }
    },
    {
      "cell_type": "code",
      "source": [
        "extract = PPTExtraction('/content/drive/MyDrive/Data/airbnb-Pitch-Deck.pptx')\n",
        "text1 = extract.extract()\n",
        "links = extract.extract_and_categorize_links()"
      ],
      "metadata": {
        "id": "Rnl93Hkj0mli"
      },
      "execution_count": null,
      "outputs": []
    },
    {
      "cell_type": "code",
      "source": [
        "print(text1)"
      ],
      "metadata": {
        "colab": {
          "base_uri": "https://localhost:8080/"
        },
        "id": "-VJVPIJonfrb",
        "outputId": "db6af9e5-14d7-4fbd-b7ae-c10fe80cccf9"
      },
      "execution_count": null,
      "outputs": [
        {
          "output_type": "stream",
          "name": "stdout",
          "text": [
            "Slide 1:\n",
            "\n",
            "Title: AirBed&Breakfast\n",
            "\n",
            "Outline: Book Rooms With Locals, Rather than Hotels.\n",
            "\n",
            "\n",
            "\n",
            "Slide 2:\n",
            "\n",
            "Outline: Problem\n",
            "\n",
            "Outline: No Easy Way Exists \n",
            "\n",
            "Outline: Price\n",
            "\n",
            "Outline: Hotels\n",
            "\n",
            "Content: To book a room with a local  or become a host.\n",
            "\n",
            "Content: Is an important concern for customers  booking travel online.\n",
            "\n",
            "Content: Leave you disconnected from the city  and its culture.\n",
            "\n",
            "Outline: presentationstemplate.com\n",
            "\n",
            "\n",
            "\n",
            "Slide 3:\n",
            "\n",
            "Outline: Save Money\n",
            "\n",
            "Outline: Solution\n",
            "\n",
            "Content: When traveling\n",
            "\n",
            "Content: A web platform   where users can rent out their  space to host travelers to:\n",
            "\n",
            "Outline: Make  Money\n",
            "\n",
            "Outline: When Hosting\n",
            "\n",
            "Outline: Share  Culture\n",
            "\n",
            "Outline: Local Connection To The City\n",
            "\n",
            "Outline: presentationstemplate.com\n",
            "\n",
            "\n",
            "\n",
            "Slide 4:\n",
            "\n",
            "Outline: Solution\n",
            "\n",
            "Content: A web platform   where users can rent out their  space to host travelers to:\n",
            "\n",
            "Outline: Share  Culture\n",
            "\n",
            "Outline: Make  Money\n",
            "\n",
            "Outline: Save Money\n",
            "\n",
            "Outline: Local Connection To The City\n",
            "\n",
            "Content: When traveling\n",
            "\n",
            "Outline: When Hosting\n",
            "\n",
            "Outline: presentationstemplate.com\n",
            "\n",
            "\n",
            "\n",
            "Slide 5:\n",
            "\n",
            "Outline: Market Validation\n",
            "\n",
            "Outline: On temporary housing site couchsurfing.com\n",
            "\n",
            "Outline: presentationstemplate.com\n",
            "\n",
            "\n",
            "\n",
            "Slide 6:\n",
            "\n",
            "Outline: Market Size\n",
            "\n",
            "Outline: Trips with AB&B\n",
            "\n",
            "Outline: 2+ Billion\n",
            "\n",
            "Outline: Market Share\n",
            "\n",
            "Outline: 532+ Million\n",
            "\n",
            "Outline: 10.6 Million\n",
            "\n",
            "Outline: Budget & Online Trips\n",
            "\n",
            "Outline: Trips Booked (Wordlwide)\n",
            "\n",
            "Outline: Serviceable Available Market\n",
            "\n",
            "Outline: Total Available Market\n",
            "\n",
            "Outline: presentationstemplate.com\n",
            "\n",
            "\n",
            "\n",
            "Slide 7:\n",
            "\n",
            "Outline: Product\n",
            "\n",
            "Outline: Search By City\n",
            "\n",
            "Outline: Search By City\n",
            "\n",
            "Outline: presentationstemplate.com\n",
            "\n",
            "\n",
            "\n",
            "Slide 8:\n",
            "\n",
            "Outline: Product\n",
            "\n",
            "Outline: Review Listings\n",
            "\n",
            "Outline: Review Listings\n",
            "\n",
            "Outline: presentationstemplate.com\n",
            "\n",
            "\n",
            "\n",
            "Slide 9:\n",
            "\n",
            "Outline: Product\n",
            "\n",
            "Outline: Book It!\n",
            "\n",
            "Outline: presentationstemplate.com\n",
            "\n",
            "\n",
            "\n",
            "Slide 10:\n",
            "\n",
            "Outline: Business Model\n",
            "\n",
            "Outline: Avg Fee\n",
            "\n",
            "Outline: Revenue\n",
            "\n",
            "Outline: Trips W/AB&B\n",
            "\n",
            "Outline: $70/night @ 3 nights\n",
            "\n",
            "Outline: Share of Market\n",
            "\n",
            "Content: We take a 10% commission on each transaction.\n",
            "\n",
            "Outline: presentationstemplate.com\n",
            "\n",
            "\n",
            "\n",
            "Slide 11:\n",
            "\n",
            "Outline: Competition\n",
            "\n",
            "Outline: Affordable\n",
            "\n",
            "Outline: Online Transaction\n",
            "\n",
            "Outline: Offline Transaction\n",
            "\n",
            "Outline: Expensive\n",
            "\n",
            "Outline: presentationstemplate.com\n",
            "\n",
            "\n",
            "\n",
            "Slide 12:\n",
            "\n",
            "Outline: Market Adoption\n",
            "\n",
            "Outline: Events\n",
            "\n",
            "Outline: Target events monthly\n",
            "\n",
            "Outline: Partnerships\n",
            "\n",
            "Outline: Craigslist\n",
            "\n",
            "Outline: Cheap/alternative travel\n",
            "\n",
            "Outline: Dual posting feature\n",
            "\n",
            "Outline: Octoberfest (6M) \n",
            "\n",
            "Outline: Summerfest (1M)\n",
            "\n",
            "Outline: Eurocup(3M+)\n",
            "\n",
            "Outline: Mardi Gras (800,000)\n",
            "\n",
            "Outline: Kayak\n",
            "\n",
            "Outline: Orbitz\n",
            "\n",
            "Outline: Goloco\n",
            "\n",
            "\n",
            "\n",
            "Slide 13:\n",
            "\n",
            "Outline: Competitive Advantages\n",
            "\n",
            "Outline: First to Market\n",
            "\n",
            "Outline: Host Incentive\n",
            "\n",
            "Outline: List Once\n",
            "\n",
            "Outline: Ease of Use\n",
            "\n",
            "Outline: Profiles\n",
            "\n",
            "Outline: Design and Brand\n",
            "\n",
            "Outline: Search by price, location & check-in/check-out dates\n",
            "\n",
            "Outline: For transaction-based temporary housing site \n",
            "\n",
            "Content: They can make money over couchsurfing.Com\n",
            "\n",
            "Content: Hosts post one time vs.\n",
            "\n",
            "Outline: Daily on craigslist\n",
            "\n",
            "Outline: And book in 3 clicks \n",
            "\n",
            "Content: Memorable name will launch at historic DNC to gain share of mind \n",
            "\n",
            "Outline: presentationstemplate.com\n",
            "\n",
            "\n",
            "\n",
            "Slide 14:\n",
            "\n",
            "Outline: Our Team\n",
            "\n",
            "Outline: Joe Gebbia\n",
            "\n",
            "Outline: Brian Chesky\n",
            "\n",
            "Outline: User Interface & PR\n",
            "\n",
            "Outline: Business Development & Brand\n",
            "\n",
            "Outline: Nathan Blecharcyk\n",
            "\n",
            "Outline: Michael Seibel\n",
            "\n",
            "Content: Holds a patent for his product, Critbuns(R). Has dual BFA's in graphic design and industrial design from Rhode Island School of Design (RISD).\n",
            "\n",
            "Content: Created Facebook Apps \"Your neighbors\" (75,000 users). Computer Science from Harvard Nate. Worked @ Microsoft, OPNET Technologies and Batiq.\n",
            "\n",
            "Content: Michael is the CEO and Co-founder of justin.tv, a San Francisco based venture funded startup that delivers live video to the Internet.\n",
            "\n",
            "Outline: Developer\n",
            "\n",
            "Outline: Advisors\n",
            "\n",
            "Content: Founder of Brian Chesky Inc, industrial design consultant. Has a BFA in industrial design from RISD. \n",
            "\n",
            "Outline: presentationstemplate.com\n",
            "\n",
            "\n",
            "\n",
            "Slide 15:\n",
            "\n",
            "Outline: User Testimonial\n",
            "\n",
            "Outline: Emily M, \n",
            "\n",
            "Outline: Austin TX\n",
            "\n",
            "Outline: Josue F, Washington DC\n",
            "\n",
            "Outline: Dan A, \n",
            "\n",
            "Outline: Ontario Canada\n",
            "\n",
            "Content: A complete success! It is easy to use and made me money\n",
            "\n",
            "Content: Its about the ideas, the interaction, the people. You don’t get that in a hotel room. \n",
            "\n",
            "Outline: AirBed & Breakfast freaking rocks!\n",
            "\n",
            "Outline: presentationstemplate.com\n",
            "\n",
            "\n",
            "\n",
            "Slide 16:\n",
            "\n",
            "Outline: Press\n",
            "\n",
            "Content: AirBed & Breakfast is a fun approach to CouchSurfing\n",
            "\n",
            "Content: Think of craigslist meets hotels.com, but a lot less crappy\n",
            "\n",
            "Outline: A cool Alternative to a boring evening in hotel room\n",
            "\n",
            "Outline: Mashable\n",
            "\n",
            "Outline: Webware\n",
            "\n",
            "Outline: Josh Spear\n",
            "\n",
            "Outline: presentationstemplate.com\n",
            "\n",
            "\n",
            "\n",
            "Slide 17:\n",
            "\n",
            "Outline: Finance \n",
            "\n",
            "Content: We are looking for 12 months financing to reach 80,000 transaction on AirBed&Breakfast \n",
            "\n",
            "Outline: Trips w/AirB&B\n",
            "\n",
            "Outline: Angel Around\n",
            "\n",
            "Outline: Revenue\n",
            "\n",
            "Outline: Initial Investment Opportunity\n",
            "\n",
            "Outline: Over 12 months\n",
            "\n",
            "Outline: Avg $25 free\n",
            "\n",
            "Outline: presentationstemplate.com\n"
          ]
        }
      ]
    },
    {
      "cell_type": "code",
      "source": [
        "def fetch_links(text):\n",
        "    pattern = r'http[s]?://(?:[a-zA-Z]|[0-9]|[$-_@.&+]|[!*\\\\(\\\\),]|(?:%[0-9a-fA-F][0-9a-fA-F]))+'\n",
        "    links = re.findall(pattern, text, re.IGNORECASE)\n",
        "    return links"
      ],
      "metadata": {
        "id": "odbYWA3Jm6PC"
      },
      "execution_count": null,
      "outputs": []
    },
    {
      "cell_type": "code",
      "source": [
        "fetch_links(text1)"
      ],
      "metadata": {
        "colab": {
          "base_uri": "https://localhost:8080/"
        },
        "id": "xrK6hLBBm7TB",
        "outputId": "ae41638a-149b-4dfd-c282-17d21c9806f3"
      },
      "execution_count": null,
      "outputs": [
        {
          "output_type": "execute_result",
          "data": {
            "text/plain": [
              "['https://docs.google.com/forms/d/1-Z5g0HUr9aJM0mXrvIycZ8xCn1B1_k80r2YxN1KW0Do/viewanalytics',\n",
              " 'https://cullanjasper.wixsite.com/my-site',\n",
              " 'https://www.linkedin.com/in/happy-hands-a97386274/',\n",
              " 'https://instagram.com/happy_hands8383?igshid=ZDdkNTZiNTM=',\n",
              " 'https://docs.google.com/spreadsheets/d/1AjayPpWRI5E2ylnBo9T9Aw85nt42ijKC-CP-mPJJw4s/edit?usp=sharing',\n",
              " 'https://1drv.ms/x/s!Any9qpg6BSL-gSOeDsXbS2mgADlu']"
            ]
          },
          "metadata": {},
          "execution_count": 85
        }
      ]
    },
    {
      "cell_type": "code",
      "source": [
        "def extract_and_categorize_links(text):\n",
        "    pattern = r'https?://\\S+'\n",
        "    links = re.findall(pattern, text, re.IGNORECASE)\n",
        "\n",
        "    categories = {\n",
        "        'social_media': ['instagram', 'linkedin'],\n",
        "        'google': ['docs.google.com', 'drive.google.com'],\n",
        "        'onedrive': ['1drv.ms'],\n",
        "        'miscellaneous': []\n",
        "    }\n",
        "    categorized_links = {}\n",
        "\n",
        "    for link in links:\n",
        "        match = re.search(r'://([^/]+)', link)\n",
        "        if match:\n",
        "            domain = match.group(1)\n",
        "            found_category = False\n",
        "            for category, domains in categories.items():\n",
        "                if any(domain.lower().find(d.lower()) != -1 for d in domains):\n",
        "                    categorized_links.setdefault(category, []).append(link)\n",
        "                    found_category = True\n",
        "                    break\n",
        "            if not found_category:\n",
        "                categorized_links.setdefault('miscellaneous', []).append(link)\n",
        "        else:\n",
        "            categorized_links.setdefault('miscellaneous', []).append(link)\n",
        "\n",
        "    return categorized_links\n",
        "\n",
        "extract_and_categorize_links(text1)"
      ],
      "metadata": {
        "colab": {
          "base_uri": "https://localhost:8080/"
        },
        "id": "TOwMGofdu6Ft",
        "outputId": "4beaea50-5284-430e-ca50-f4675d984dd7"
      },
      "execution_count": null,
      "outputs": [
        {
          "output_type": "execute_result",
          "data": {
            "text/plain": [
              "{'google': ['https://docs.google.com/forms/d/1-Z5g0HUr9aJM0mXrvIycZ8xCn1B1_k80r2YxN1KW0Do/viewanalytics',\n",
              "  'https://docs.google.com/spreadsheets/d/1AjayPpWRI5E2ylnBo9T9Aw85nt42ijKC-CP-mPJJw4s/edit?usp=sharing'],\n",
              " 'miscellaneous': ['https://cullanjasper.wixsite.com/my-site'],\n",
              " 'social_media': ['https://www.linkedin.com/in/happy-hands-a97386274/',\n",
              "  'https://instagram.com/happy_hands8383?igshid=ZDdkNTZiNTM='],\n",
              " 'onedrive': ['https://1drv.ms/x/s!Any9qpg6BSL-gSOeDsXbS2mgADlu']}"
            ]
          },
          "metadata": {},
          "execution_count": 88
        }
      ]
    }
  ]
}